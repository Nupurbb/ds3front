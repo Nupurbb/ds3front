{
 "cells": [
  {
   "cell_type": "markdown",
   "metadata": {},
   "source": [
    "---\n",
    "comments: true\n",
    "layout: post\n",
    "title: menu nupur and sreeja\n",
    "description: menu algorithmic sorting\n",
    "type: hacks\n",
    "courses: { compsci: {week: 7} }\n",
    "---"
   ]
  },
  {
   "cell_type": "code",
   "execution_count": null,
   "metadata": {},
   "outputs": [],
   "source": [
    "# Example list of recipes (each recipe is a dictionary for simplicity)\n",
    "all_recipes = [\n",
    "    {'name': 'Pasta', 'is_favorite': True, 'preparation_time': 25},\n",
    "    {'name': 'Pizza', 'is_favorite': False, 'preparation_time': 40},\n",
    "    {'name': 'Salad', 'is_favorite': True, 'preparation_time': 15},\n",
    "    {'name': 'Soup', 'is_favorite': True, 'preparation_time': 30},\n",
    "    {'name': 'Burger', 'is_favorite': False, 'preparation_time': 20}\n",
    "]\n",
    "\n",
    "# List comprehension to create a personalized menu of favorite recipes\n",
    "favorite_recipes = [recipe for recipe in all_recipes if recipe['is_favorite']]\n",
    "print(\"Favorite Recipes (List Comprehension):\", favorite_recipes)\n",
    "\n",
    "# Conventional loop to filter recipes with preparation time less than 30 minutes\n",
    "quick_recipes = []\n",
    "for recipe in favorite_recipes:\n",
    "    if recipe['preparation_time'] < 30:\n",
    "        quick_recipes.append(recipe)\n",
    "print(\"Quick Recipes (Conventional Loop):\", quick_recipes)\n",
    "\n",
    "# For-each method to filter recipes with preparation time less than 30 minutes\n",
    "quick_recipes_foreach = [recipe for recipe in favorite_recipes if recipe['preparation_time'] < 30]\n",
    "print(\"Quick Recipes (For-each Method):\", quick_recipes_foreach)"
   ]
  }
 ],
 "metadata": {
  "language_info": {
   "name": "python"
  },
  "orig_nbformat": 4
 },
 "nbformat": 4,
 "nbformat_minor": 2
}
